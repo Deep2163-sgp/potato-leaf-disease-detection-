{
 "cells": [
  {
   "attachments": {},
   "cell_type": "markdown",
   "metadata": {},
   "source": [
    "Potato Disease Classification\n",
    "Dataset credits: https://www.kaggle.com/arjuntejaswi/plant-village"
   ]
  },
  {
   "attachments": {},
   "cell_type": "markdown",
   "metadata": {},
   "source": [
    "Import all the Dependencies"
   ]
  },
  {
   "cell_type": "code",
   "execution_count": 3,
   "metadata": {},
   "outputs": [],
   "source": [
    "import tensorflow as tf\n",
    "from tensorflow.keras import models, layers\n",
    "import matplotlib.pyplot as plt\n",
    "from IPython.display import HTML"
   ]
  },
  {
   "attachments": {},
   "cell_type": "markdown",
   "metadata": {},
   "source": [
    "Import data into tensorflow dataset object\n",
    "Used splitfolders tool to split dataset into training, validation and test directories.\n",
    "\n",
    "$ pip install split-folders\n",
    "\n",
    "$ splitfolders --ratio 0.8 0.1 0.1 -- ./training/PlantVillage/"
   ]
  },
  {
   "cell_type": "code",
   "execution_count": 4,
   "metadata": {},
   "outputs": [],
   "source": [
    "IMAGE_SIZE = 256\n",
    "CHANNELS = 3"
   ]
  },
  {
   "cell_type": "code",
   "execution_count": 9,
   "metadata": {},
   "outputs": [
    {
     "name": "stdout",
     "output_type": "stream",
     "text": [
      "Found 2152 images belonging to 3 classes.\n"
     ]
    }
   ],
   "source": [
    "from tensorflow.keras.preprocessing.image import ImageDataGenerator\n",
    "\n",
    "train_datagen = ImageDataGenerator(\n",
    "        rescale=1./255,\n",
    "        rotation_range=10,\n",
    "        horizontal_flip=True\n",
    "        )\n",
    "train_generator = train_datagen.flow_from_directory(\n",
    "        'C:/Users/deepr/Desktop/SGP 2/Potato Images',\n",
    "        target_size=(IMAGE_SIZE,IMAGE_SIZE),\n",
    "        batch_size=32,\n",
    "        class_mode=\"sparse\",\n",
    "        #         save_to_dir=\"C:\\\\Code\\\\potato-disease-classification\\\\training\\\\AugmentedImages\"\n",
    "        )\n"
   ]
  },
  {
   "attachments": {},
   "cell_type": "markdown",
   "metadata": {},
   "source": [
    "Found 1506 images belonging to 3 classes."
   ]
  },
  {
   "cell_type": "code",
   "execution_count": 10,
   "metadata": {},
   "outputs": [
    {
     "data": {
      "text/plain": [
       "{'Potato___Early_blight': 0, 'Potato___Late_blight': 1, 'Potato___healthy': 2}"
      ]
     },
     "execution_count": 10,
     "metadata": {},
     "output_type": "execute_result"
    }
   ],
   "source": [
    "train_generator.class_indices"
   ]
  },
  {
   "attachments": {},
   "cell_type": "markdown",
   "metadata": {},
   "source": [
    "{'Potato___Early_blight': 0, 'Potato___Late_blight': 1, 'Potato___healthy': 2}"
   ]
  },
  {
   "cell_type": "code",
   "execution_count": 11,
   "metadata": {},
   "outputs": [
    {
     "data": {
      "text/plain": [
       "['Potato___Early_blight', 'Potato___Late_blight', 'Potato___healthy']"
      ]
     },
     "execution_count": 11,
     "metadata": {},
     "output_type": "execute_result"
    }
   ],
   "source": [
    "class_names = list(train_generator.class_indices.keys())\n",
    "class_names"
   ]
  },
  {
   "attachments": {},
   "cell_type": "markdown",
   "metadata": {},
   "source": [
    "['Potato___Early_blight', 'Potato___Late_blight', 'Potato___healthy']"
   ]
  },
  {
   "cell_type": "code",
   "execution_count": 12,
   "metadata": {},
   "outputs": [
    {
     "name": "stdout",
     "output_type": "stream",
     "text": [
      "[[[0.49662337 0.4809371  0.535839  ]\n",
      "  [0.5112178  0.49553147 0.55043346]\n",
      "  [0.49320796 0.4775217  0.5324236 ]\n",
      "  ...\n",
      "  [0.63221973 0.64006287 0.69104326]\n",
      "  [0.63307434 0.6409175  0.69189787]\n",
      "  [0.6337032  0.6415463  0.6925267 ]]\n",
      "\n",
      " [[0.4969092  0.48122293 0.5361249 ]\n",
      "  [0.5109319  0.49524564 0.5501476 ]\n",
      "  [0.49355096 0.47786468 0.53276664]\n",
      "  ...\n",
      "  [0.66611636 0.6739595  0.7315513 ]\n",
      "  [0.66611844 0.6739616  0.7316677 ]\n",
      "  [0.6665758  0.6744189  0.7322394 ]]\n",
      "\n",
      " [[0.50459087 0.48890465 0.54380655]\n",
      "  [0.50524896 0.48956272 0.5444647 ]\n",
      "  [0.5221938  0.5065075  0.5614095 ]\n",
      "  ...\n",
      "  [0.66382384 0.671667   0.7304905 ]\n",
      "  [0.66050094 0.6683441  0.7271676 ]\n",
      "  [0.66032946 0.6681726  0.7269961 ]]\n",
      "\n",
      " ...\n",
      "\n",
      " [[0.47008628 0.4544     0.5132235 ]\n",
      "  [0.47002915 0.45434287 0.51316637]\n",
      "  [0.46913776 0.45345148 0.51227504]\n",
      "  ...\n",
      "  [0.62937176 0.61760706 0.6842737 ]\n",
      "  [0.56998956 0.55822486 0.6248916 ]\n",
      "  [0.48944214 0.47767743 0.5443441 ]]\n",
      "\n",
      " [[0.46516204 0.44947577 0.5082993 ]\n",
      "  [0.46499053 0.44930425 0.50812775]\n",
      "  [0.4633873  0.44770104 0.50652456]\n",
      "  ...\n",
      "  [0.583747   0.5719823  0.638649  ]\n",
      "  [0.5838076  0.5720429  0.63870955]\n",
      "  [0.47893602 0.4671713  0.533838  ]]\n",
      "\n",
      " [[0.4579088  0.44222254 0.50104606]\n",
      "  [0.45825183 0.44256556 0.5013891 ]\n",
      "  [0.45658472 0.44089845 0.499722  ]\n",
      "  ...\n",
      "  [0.58340406 0.57163936 0.638306  ]\n",
      "  [0.5858656  0.5741009  0.6407676 ]\n",
      "  [0.47727814 0.46551344 0.5321801 ]]]\n"
     ]
    }
   ],
   "source": [
    "count=0\n",
    "for image_batch, label_batch in train_generator:\n",
    "#     print(label_batch)\n",
    "    print(image_batch[0])\n",
    "    break\n",
    "#     count+=1\n",
    "#     if count>2:\n",
    "#         break"
   ]
  },
  {
   "cell_type": "code",
   "execution_count": 14,
   "metadata": {},
   "outputs": [
    {
     "name": "stdout",
     "output_type": "stream",
     "text": [
      "Found 2152 images belonging to 3 classes.\n"
     ]
    }
   ],
   "source": [
    "validation_datagen = ImageDataGenerator(\n",
    "        rescale=1./255,\n",
    "        rotation_range=10,\n",
    "        horizontal_flip=True)\n",
    "validation_generator = validation_datagen.flow_from_directory(\n",
    "        'C:/Users/deepr/Desktop/SGP 2/Potato Images',\n",
    "        target_size=(IMAGE_SIZE,IMAGE_SIZE),\n",
    "        batch_size=32,\n",
    "        class_mode=\"sparse\"\n",
    ")"
   ]
  },
  {
   "attachments": {},
   "cell_type": "markdown",
   "metadata": {},
   "source": [
    "Found 215 images belonging to 3 classes."
   ]
  },
  {
   "cell_type": "code",
   "execution_count": 16,
   "metadata": {},
   "outputs": [
    {
     "name": "stdout",
     "output_type": "stream",
     "text": [
      "Found 2152 images belonging to 3 classes.\n"
     ]
    }
   ],
   "source": [
    "test_datagen = ImageDataGenerator(\n",
    "        rescale=1./255,\n",
    "        rotation_range=10,\n",
    "        horizontal_flip=True)\n",
    "\n",
    "test_generator = test_datagen.flow_from_directory(\n",
    "        'C:/Users/deepr/Desktop/SGP 2/Potato Images',\n",
    "        target_size=(IMAGE_SIZE,IMAGE_SIZE),\n",
    "        batch_size=32,\n",
    "        class_mode=\"sparse\"\n",
    ")"
   ]
  },
  {
   "attachments": {},
   "cell_type": "markdown",
   "metadata": {},
   "source": [
    "Found 431 images belonging to 3 classes."
   ]
  },
  {
   "cell_type": "code",
   "execution_count": 17,
   "metadata": {},
   "outputs": [
    {
     "name": "stdout",
     "output_type": "stream",
     "text": [
      "[[[0.5611415  0.53369045 0.5644392 ]\n",
      "  [0.56336224 0.53591126 0.56684506]\n",
      "  [0.5655831  0.53813213 0.56925094]\n",
      "  ...\n",
      "  [0.37893102 0.33579376 0.35932317]\n",
      "  [0.41609582 0.37295857 0.39648798]\n",
      "  [0.41033852 0.36720127 0.39073068]]\n",
      "\n",
      " [[0.52342707 0.49411768 0.5221881 ]\n",
      "  [0.52287185 0.49411768 0.5220031 ]\n",
      "  [0.52231663 0.49411768 0.521818  ]\n",
      "  ...\n",
      "  [0.37819073 0.33505347 0.35858288]\n",
      "  [0.41831663 0.37517938 0.3987088 ]\n",
      "  [0.40959826 0.36646098 0.38999042]]\n",
      "\n",
      " [[0.5450202  0.50580454 0.5371771 ]\n",
      "  [0.54150397 0.5022882  0.5336608 ]\n",
      "  [0.53798765 0.49877197 0.5301445 ]\n",
      "  ...\n",
      "  [0.37745047 0.3343132  0.35784262]\n",
      "  [0.42053747 0.3774002  0.4009296 ]\n",
      "  [0.40885797 0.3657207  0.38925013]]\n",
      "\n",
      " ...\n",
      "\n",
      " [[0.52777356 0.50424415 0.55130297]\n",
      "  [0.55754304 0.5340136  0.58107245]\n",
      "  [0.5105388  0.4870094  0.5340682 ]\n",
      "  ...\n",
      "  [0.40000004 0.37254903 0.4039216 ]\n",
      "  [0.40000004 0.37254903 0.4039216 ]\n",
      "  [0.40000004 0.37254903 0.4039216 ]]\n",
      "\n",
      " [[0.52943915 0.50590974 0.55296856]\n",
      "  [0.55513716 0.53160775 0.57866657]\n",
      "  [0.5110941  0.48756462 0.5346235 ]\n",
      "  ...\n",
      "  [0.4550836  0.42763263 0.45900518]\n",
      "  [0.45230758 0.4248566  0.45622915]\n",
      "  [0.44953156 0.42208058 0.45345312]]\n",
      "\n",
      " [[0.53110474 0.50757533 0.55463415]\n",
      "  [0.5527313  0.52920187 0.5762607 ]\n",
      "  [0.51164925 0.48811984 0.53517866]\n",
      "  ...\n",
      "  [0.43681633 0.40936536 0.4407379 ]\n",
      "  [0.43792677 0.4104758  0.44184834]\n",
      "  [0.43903714 0.41158617 0.4429587 ]]]\n"
     ]
    }
   ],
   "source": [
    "for image_batch, label_batch in test_generator:\n",
    "    print(image_batch[0])\n",
    "    break"
   ]
  }
 ],
 "metadata": {
  "kernelspec": {
   "display_name": "base",
   "language": "python",
   "name": "python3"
  },
  "language_info": {
   "codemirror_mode": {
    "name": "ipython",
    "version": 3
   },
   "file_extension": ".py",
   "mimetype": "text/x-python",
   "name": "python",
   "nbconvert_exporter": "python",
   "pygments_lexer": "ipython3",
   "version": "3.9.15"
  },
  "orig_nbformat": 4
 },
 "nbformat": 4,
 "nbformat_minor": 2
}
